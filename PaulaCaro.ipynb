{
  "nbformat": 4,
  "nbformat_minor": 0,
  "metadata": {
    "colab": {
      "provenance": [],
      "mount_file_id": "15_QiPZ7j8HAT_KBmPeSwwxtqjod0YdxE",
      "authorship_tag": "ABX9TyO6xUBLd8L/rQaj4bFUFrHY",
      "include_colab_link": true
    },
    "kernelspec": {
      "name": "python3",
      "display_name": "Python 3"
    },
    "language_info": {
      "name": "python"
    }
  },
  "cells": [
    {
      "cell_type": "markdown",
      "metadata": {
        "id": "view-in-github",
        "colab_type": "text"
      },
      "source": [
        "<a href=\"https://colab.research.google.com/github/Carocaro0424/Ciencias-De-Datos-Micro-proyecto/blob/main/PaulaCaro.ipynb\" target=\"_parent\"><img src=\"https://colab.research.google.com/assets/colab-badge.svg\" alt=\"Open In Colab\"/></a>"
      ]
    },
    {
      "cell_type": "code",
      "execution_count": 24,
      "metadata": {
        "id": "vMG-R9tpf5Ox"
      },
      "outputs": [],
      "source": []
    },
    {
      "cell_type": "markdown",
      "source": [
        "Machine Learning\n",
        "Exercise lineal Regression and Regularization\n",
        "In this exercise, we will predict the 𝑦 variable using the 𝑥1, … , 𝑥7 variables in the data set.\n",
        "Procedure:\n",
        "a) Uploading databases to Google Colab.\n",
        "b) Split the data set into a training set and a test set. Use random_state=42. test_size =\n",
        "0.2.\n",
        "c) Fit a linear model on the training set, and report the error (RMSE) obtained.\n",
        "d) Predict with the linear model on the test set, and report the error (RMSE) obtained.\n",
        "e) Fit a lasso regression model on the training set, with 𝜆 chosen by cross-validation.\n",
        "Report the test (RMSE) obtained.\n",
        "f) Predict with the lasso regression on the test set, and report the error (RMSE)\n",
        "obtained.\n",
        "g) Fit a ridge model on the training set, with 𝜆 chosen by crossvalidation. Report the\n",
        "error (RMSE) obtained.\n",
        "h) Predict with the ridge regression on the test set, and report the error (RMSE)\n",
        "obtained.\n",
        "i) Report the optimal 𝜆 for lasso regression and Ridge regression.\n",
        "j) Report three inferences or conclusions about the results obtained"
      ],
      "metadata": {
        "id": "zn-5Vvdpf8uu"
      }
    },
    {
      "cell_type": "markdown",
      "source": [
        "# a) Uploading databases to Google Colab."
      ],
      "metadata": {
        "id": "YDno4Yi5gD7N"
      }
    },
    {
      "cell_type": "code",
      "source": [
        "#Importar librerias\n",
        "import numpy as np\n",
        "import pandas as pd"
      ],
      "metadata": {
        "id": "IKfREdcKgGVU"
      },
      "execution_count": 25,
      "outputs": []
    },
    {
      "cell_type": "code",
      "source": [
        "#imports from sklearn library\n",
        "from sklearn.linear_model import LinearRegression, Lasso, Ridge, LassoCV, RidgeCV, ElasticNetCV\n",
        "from sklearn.model_selection import train_test_split, cross_val_score\n",
        "from sklearn.metrics import mean_squared_error, median_absolute_error, r2_score"
      ],
      "metadata": {
        "id": "Zh3rt38SgqZn"
      },
      "execution_count": 26,
      "outputs": []
    },
    {
      "cell_type": "code",
      "source": [
        "#loading the dataset direclty from drive\n",
        "from google.colab import drive\n",
        "drive.mount('/content/drive')\n",
        "Data_set_exercise_filepath = \"/content/drive/MyDrive/Data_set_exercise.xlsx\"\n",
        "Data_set_exercise = pd.read_excel(Data_set_exercise_filepath)\n",
        "Data_set_exercise.head()"
      ],
      "metadata": {
        "colab": {
          "base_uri": "https://localhost:8080/",
          "height": 223
        },
        "id": "KGWcNmLkgt-3",
        "outputId": "4d80c6df-5da8-492d-8a09-b07b68bbddcd"
      },
      "execution_count": 27,
      "outputs": [
        {
          "output_type": "stream",
          "name": "stdout",
          "text": [
            "Drive already mounted at /content/drive; to attempt to forcibly remount, call drive.mount(\"/content/drive\", force_remount=True).\n"
          ]
        },
        {
          "output_type": "execute_result",
          "data": {
            "text/plain": [
              "         X1        X2        X3        X4        X5        X6        X7  \\\n",
              "0  0.435995  0.025926  0.549662  0.435322  0.420368  0.330335  0.204649   \n",
              "1  0.619271  0.299655  0.266827  0.621134  0.529142  0.134580  0.513578   \n",
              "2  0.184440  0.785335  0.853975  0.494237  0.846561  0.079645  0.505246   \n",
              "3  0.065287  0.428122  0.096531  0.127160  0.596745  0.226012  0.106946   \n",
              "4  0.220306  0.349826  0.467787  0.201743  0.640407  0.483070  0.505237   \n",
              "\n",
              "              y  \n",
              "0  1.226269e+16  \n",
              "1  1.708639e-01  \n",
              "2 -6.116723e-01  \n",
              "3 -1.293859e+15  \n",
              "4  8.325766e-01  "
            ],
            "text/html": [
              "\n",
              "  <div id=\"df-0a014a7d-b778-408a-83c1-bd86ed19e715\" class=\"colab-df-container\">\n",
              "    <div>\n",
              "<style scoped>\n",
              "    .dataframe tbody tr th:only-of-type {\n",
              "        vertical-align: middle;\n",
              "    }\n",
              "\n",
              "    .dataframe tbody tr th {\n",
              "        vertical-align: top;\n",
              "    }\n",
              "\n",
              "    .dataframe thead th {\n",
              "        text-align: right;\n",
              "    }\n",
              "</style>\n",
              "<table border=\"1\" class=\"dataframe\">\n",
              "  <thead>\n",
              "    <tr style=\"text-align: right;\">\n",
              "      <th></th>\n",
              "      <th>X1</th>\n",
              "      <th>X2</th>\n",
              "      <th>X3</th>\n",
              "      <th>X4</th>\n",
              "      <th>X5</th>\n",
              "      <th>X6</th>\n",
              "      <th>X7</th>\n",
              "      <th>y</th>\n",
              "    </tr>\n",
              "  </thead>\n",
              "  <tbody>\n",
              "    <tr>\n",
              "      <th>0</th>\n",
              "      <td>0.435995</td>\n",
              "      <td>0.025926</td>\n",
              "      <td>0.549662</td>\n",
              "      <td>0.435322</td>\n",
              "      <td>0.420368</td>\n",
              "      <td>0.330335</td>\n",
              "      <td>0.204649</td>\n",
              "      <td>1.226269e+16</td>\n",
              "    </tr>\n",
              "    <tr>\n",
              "      <th>1</th>\n",
              "      <td>0.619271</td>\n",
              "      <td>0.299655</td>\n",
              "      <td>0.266827</td>\n",
              "      <td>0.621134</td>\n",
              "      <td>0.529142</td>\n",
              "      <td>0.134580</td>\n",
              "      <td>0.513578</td>\n",
              "      <td>1.708639e-01</td>\n",
              "    </tr>\n",
              "    <tr>\n",
              "      <th>2</th>\n",
              "      <td>0.184440</td>\n",
              "      <td>0.785335</td>\n",
              "      <td>0.853975</td>\n",
              "      <td>0.494237</td>\n",
              "      <td>0.846561</td>\n",
              "      <td>0.079645</td>\n",
              "      <td>0.505246</td>\n",
              "      <td>-6.116723e-01</td>\n",
              "    </tr>\n",
              "    <tr>\n",
              "      <th>3</th>\n",
              "      <td>0.065287</td>\n",
              "      <td>0.428122</td>\n",
              "      <td>0.096531</td>\n",
              "      <td>0.127160</td>\n",
              "      <td>0.596745</td>\n",
              "      <td>0.226012</td>\n",
              "      <td>0.106946</td>\n",
              "      <td>-1.293859e+15</td>\n",
              "    </tr>\n",
              "    <tr>\n",
              "      <th>4</th>\n",
              "      <td>0.220306</td>\n",
              "      <td>0.349826</td>\n",
              "      <td>0.467787</td>\n",
              "      <td>0.201743</td>\n",
              "      <td>0.640407</td>\n",
              "      <td>0.483070</td>\n",
              "      <td>0.505237</td>\n",
              "      <td>8.325766e-01</td>\n",
              "    </tr>\n",
              "  </tbody>\n",
              "</table>\n",
              "</div>\n",
              "    <div class=\"colab-df-buttons\">\n",
              "\n",
              "  <div class=\"colab-df-container\">\n",
              "    <button class=\"colab-df-convert\" onclick=\"convertToInteractive('df-0a014a7d-b778-408a-83c1-bd86ed19e715')\"\n",
              "            title=\"Convert this dataframe to an interactive table.\"\n",
              "            style=\"display:none;\">\n",
              "\n",
              "  <svg xmlns=\"http://www.w3.org/2000/svg\" height=\"24px\" viewBox=\"0 -960 960 960\">\n",
              "    <path d=\"M120-120v-720h720v720H120Zm60-500h600v-160H180v160Zm220 220h160v-160H400v160Zm0 220h160v-160H400v160ZM180-400h160v-160H180v160Zm440 0h160v-160H620v160ZM180-180h160v-160H180v160Zm440 0h160v-160H620v160Z\"/>\n",
              "  </svg>\n",
              "    </button>\n",
              "\n",
              "  <style>\n",
              "    .colab-df-container {\n",
              "      display:flex;\n",
              "      gap: 12px;\n",
              "    }\n",
              "\n",
              "    .colab-df-convert {\n",
              "      background-color: #E8F0FE;\n",
              "      border: none;\n",
              "      border-radius: 50%;\n",
              "      cursor: pointer;\n",
              "      display: none;\n",
              "      fill: #1967D2;\n",
              "      height: 32px;\n",
              "      padding: 0 0 0 0;\n",
              "      width: 32px;\n",
              "    }\n",
              "\n",
              "    .colab-df-convert:hover {\n",
              "      background-color: #E2EBFA;\n",
              "      box-shadow: 0px 1px 2px rgba(60, 64, 67, 0.3), 0px 1px 3px 1px rgba(60, 64, 67, 0.15);\n",
              "      fill: #174EA6;\n",
              "    }\n",
              "\n",
              "    .colab-df-buttons div {\n",
              "      margin-bottom: 4px;\n",
              "    }\n",
              "\n",
              "    [theme=dark] .colab-df-convert {\n",
              "      background-color: #3B4455;\n",
              "      fill: #D2E3FC;\n",
              "    }\n",
              "\n",
              "    [theme=dark] .colab-df-convert:hover {\n",
              "      background-color: #434B5C;\n",
              "      box-shadow: 0px 1px 3px 1px rgba(0, 0, 0, 0.15);\n",
              "      filter: drop-shadow(0px 1px 2px rgba(0, 0, 0, 0.3));\n",
              "      fill: #FFFFFF;\n",
              "    }\n",
              "  </style>\n",
              "\n",
              "    <script>\n",
              "      const buttonEl =\n",
              "        document.querySelector('#df-0a014a7d-b778-408a-83c1-bd86ed19e715 button.colab-df-convert');\n",
              "      buttonEl.style.display =\n",
              "        google.colab.kernel.accessAllowed ? 'block' : 'none';\n",
              "\n",
              "      async function convertToInteractive(key) {\n",
              "        const element = document.querySelector('#df-0a014a7d-b778-408a-83c1-bd86ed19e715');\n",
              "        const dataTable =\n",
              "          await google.colab.kernel.invokeFunction('convertToInteractive',\n",
              "                                                    [key], {});\n",
              "        if (!dataTable) return;\n",
              "\n",
              "        const docLinkHtml = 'Like what you see? Visit the ' +\n",
              "          '<a target=\"_blank\" href=https://colab.research.google.com/notebooks/data_table.ipynb>data table notebook</a>'\n",
              "          + ' to learn more about interactive tables.';\n",
              "        element.innerHTML = '';\n",
              "        dataTable['output_type'] = 'display_data';\n",
              "        await google.colab.output.renderOutput(dataTable, element);\n",
              "        const docLink = document.createElement('div');\n",
              "        docLink.innerHTML = docLinkHtml;\n",
              "        element.appendChild(docLink);\n",
              "      }\n",
              "    </script>\n",
              "  </div>\n",
              "\n",
              "\n",
              "<div id=\"df-0b6c067b-2def-4180-ae3e-650cc5900e5e\">\n",
              "  <button class=\"colab-df-quickchart\" onclick=\"quickchart('df-0b6c067b-2def-4180-ae3e-650cc5900e5e')\"\n",
              "            title=\"Suggest charts\"\n",
              "            style=\"display:none;\">\n",
              "\n",
              "<svg xmlns=\"http://www.w3.org/2000/svg\" height=\"24px\"viewBox=\"0 0 24 24\"\n",
              "     width=\"24px\">\n",
              "    <g>\n",
              "        <path d=\"M19 3H5c-1.1 0-2 .9-2 2v14c0 1.1.9 2 2 2h14c1.1 0 2-.9 2-2V5c0-1.1-.9-2-2-2zM9 17H7v-7h2v7zm4 0h-2V7h2v10zm4 0h-2v-4h2v4z\"/>\n",
              "    </g>\n",
              "</svg>\n",
              "  </button>\n",
              "\n",
              "<style>\n",
              "  .colab-df-quickchart {\n",
              "      --bg-color: #E8F0FE;\n",
              "      --fill-color: #1967D2;\n",
              "      --hover-bg-color: #E2EBFA;\n",
              "      --hover-fill-color: #174EA6;\n",
              "      --disabled-fill-color: #AAA;\n",
              "      --disabled-bg-color: #DDD;\n",
              "  }\n",
              "\n",
              "  [theme=dark] .colab-df-quickchart {\n",
              "      --bg-color: #3B4455;\n",
              "      --fill-color: #D2E3FC;\n",
              "      --hover-bg-color: #434B5C;\n",
              "      --hover-fill-color: #FFFFFF;\n",
              "      --disabled-bg-color: #3B4455;\n",
              "      --disabled-fill-color: #666;\n",
              "  }\n",
              "\n",
              "  .colab-df-quickchart {\n",
              "    background-color: var(--bg-color);\n",
              "    border: none;\n",
              "    border-radius: 50%;\n",
              "    cursor: pointer;\n",
              "    display: none;\n",
              "    fill: var(--fill-color);\n",
              "    height: 32px;\n",
              "    padding: 0;\n",
              "    width: 32px;\n",
              "  }\n",
              "\n",
              "  .colab-df-quickchart:hover {\n",
              "    background-color: var(--hover-bg-color);\n",
              "    box-shadow: 0 1px 2px rgba(60, 64, 67, 0.3), 0 1px 3px 1px rgba(60, 64, 67, 0.15);\n",
              "    fill: var(--button-hover-fill-color);\n",
              "  }\n",
              "\n",
              "  .colab-df-quickchart-complete:disabled,\n",
              "  .colab-df-quickchart-complete:disabled:hover {\n",
              "    background-color: var(--disabled-bg-color);\n",
              "    fill: var(--disabled-fill-color);\n",
              "    box-shadow: none;\n",
              "  }\n",
              "\n",
              "  .colab-df-spinner {\n",
              "    border: 2px solid var(--fill-color);\n",
              "    border-color: transparent;\n",
              "    border-bottom-color: var(--fill-color);\n",
              "    animation:\n",
              "      spin 1s steps(1) infinite;\n",
              "  }\n",
              "\n",
              "  @keyframes spin {\n",
              "    0% {\n",
              "      border-color: transparent;\n",
              "      border-bottom-color: var(--fill-color);\n",
              "      border-left-color: var(--fill-color);\n",
              "    }\n",
              "    20% {\n",
              "      border-color: transparent;\n",
              "      border-left-color: var(--fill-color);\n",
              "      border-top-color: var(--fill-color);\n",
              "    }\n",
              "    30% {\n",
              "      border-color: transparent;\n",
              "      border-left-color: var(--fill-color);\n",
              "      border-top-color: var(--fill-color);\n",
              "      border-right-color: var(--fill-color);\n",
              "    }\n",
              "    40% {\n",
              "      border-color: transparent;\n",
              "      border-right-color: var(--fill-color);\n",
              "      border-top-color: var(--fill-color);\n",
              "    }\n",
              "    60% {\n",
              "      border-color: transparent;\n",
              "      border-right-color: var(--fill-color);\n",
              "    }\n",
              "    80% {\n",
              "      border-color: transparent;\n",
              "      border-right-color: var(--fill-color);\n",
              "      border-bottom-color: var(--fill-color);\n",
              "    }\n",
              "    90% {\n",
              "      border-color: transparent;\n",
              "      border-bottom-color: var(--fill-color);\n",
              "    }\n",
              "  }\n",
              "</style>\n",
              "\n",
              "  <script>\n",
              "    async function quickchart(key) {\n",
              "      const quickchartButtonEl =\n",
              "        document.querySelector('#' + key + ' button');\n",
              "      quickchartButtonEl.disabled = true;  // To prevent multiple clicks.\n",
              "      quickchartButtonEl.classList.add('colab-df-spinner');\n",
              "      try {\n",
              "        const charts = await google.colab.kernel.invokeFunction(\n",
              "            'suggestCharts', [key], {});\n",
              "      } catch (error) {\n",
              "        console.error('Error during call to suggestCharts:', error);\n",
              "      }\n",
              "      quickchartButtonEl.classList.remove('colab-df-spinner');\n",
              "      quickchartButtonEl.classList.add('colab-df-quickchart-complete');\n",
              "    }\n",
              "    (() => {\n",
              "      let quickchartButtonEl =\n",
              "        document.querySelector('#df-0b6c067b-2def-4180-ae3e-650cc5900e5e button');\n",
              "      quickchartButtonEl.style.display =\n",
              "        google.colab.kernel.accessAllowed ? 'block' : 'none';\n",
              "    })();\n",
              "  </script>\n",
              "</div>\n",
              "\n",
              "    </div>\n",
              "  </div>\n"
            ]
          },
          "metadata": {},
          "execution_count": 27
        }
      ]
    },
    {
      "cell_type": "code",
      "source": [
        "#Visualización de las variables\n",
        "data = pd.DataFrame(Data_set_exercise)\n",
        "print(data.head())"
      ],
      "metadata": {
        "colab": {
          "base_uri": "https://localhost:8080/"
        },
        "id": "Hknp1o4Pht8q",
        "outputId": "e2ae75f3-b9ae-452c-fc9f-4e6c28076c8a"
      },
      "execution_count": 28,
      "outputs": [
        {
          "output_type": "stream",
          "name": "stdout",
          "text": [
            "         X1        X2        X3        X4        X5        X6        X7  \\\n",
            "0  0.435995  0.025926  0.549662  0.435322  0.420368  0.330335  0.204649   \n",
            "1  0.619271  0.299655  0.266827  0.621134  0.529142  0.134580  0.513578   \n",
            "2  0.184440  0.785335  0.853975  0.494237  0.846561  0.079645  0.505246   \n",
            "3  0.065287  0.428122  0.096531  0.127160  0.596745  0.226012  0.106946   \n",
            "4  0.220306  0.349826  0.467787  0.201743  0.640407  0.483070  0.505237   \n",
            "\n",
            "              y  \n",
            "0  1.226269e+16  \n",
            "1  1.708639e-01  \n",
            "2 -6.116723e-01  \n",
            "3 -1.293859e+15  \n",
            "4  8.325766e-01  \n"
          ]
        }
      ]
    },
    {
      "cell_type": "code",
      "source": [
        "#Verifiar que no hay valores omitidos o en blanco\n",
        "data.isnull().sum()"
      ],
      "metadata": {
        "colab": {
          "base_uri": "https://localhost:8080/"
        },
        "id": "qeffRiQLh8K7",
        "outputId": "180fcce9-1d9c-4290-f189-63553ff80ec0"
      },
      "execution_count": 29,
      "outputs": [
        {
          "output_type": "execute_result",
          "data": {
            "text/plain": [
              "X1    0\n",
              "X2    0\n",
              "X3    0\n",
              "X4    0\n",
              "X5    0\n",
              "X6    0\n",
              "X7    0\n",
              "y     0\n",
              "dtype: int64"
            ]
          },
          "metadata": {},
          "execution_count": 29
        }
      ]
    },
    {
      "cell_type": "code",
      "source": [
        "y_price=Data_set_exercise['y']\n",
        "print(y_price)"
      ],
      "metadata": {
        "colab": {
          "base_uri": "https://localhost:8080/"
        },
        "id": "TTFQNiFCiBiz",
        "outputId": "0ae183e9-7434-47c3-9fd7-4d9d05dfee1c"
      },
      "execution_count": 30,
      "outputs": [
        {
          "output_type": "stream",
          "name": "stdout",
          "text": [
            "0      1.226269e+16\n",
            "1      1.708639e-01\n",
            "2     -6.116723e-01\n",
            "3     -1.293859e+15\n",
            "4      8.325766e-01\n",
            "           ...     \n",
            "595    1.730852e+16\n",
            "596    6.078905e-01\n",
            "597    1.720218e+16\n",
            "598   -7.962534e-01\n",
            "599   -2.715341e+16\n",
            "Name: y, Length: 600, dtype: float64\n"
          ]
        }
      ]
    },
    {
      "cell_type": "code",
      "source": [
        "x_total=Data_set_exercise.drop(['y'], axis=1)\n",
        "print(x_total)"
      ],
      "metadata": {
        "colab": {
          "base_uri": "https://localhost:8080/"
        },
        "id": "WYCnTmKJiNob",
        "outputId": "b38f4881-e013-4839-e3bf-771a3522deb2"
      },
      "execution_count": 31,
      "outputs": [
        {
          "output_type": "stream",
          "name": "stdout",
          "text": [
            "           X1        X2        X3        X4        X5        X6        X7\n",
            "0    0.435995  0.025926  0.549662  0.435322  0.420368  0.330335  0.204649\n",
            "1    0.619271  0.299655  0.266827  0.621134  0.529142  0.134580  0.513578\n",
            "2    0.184440  0.785335  0.853975  0.494237  0.846561  0.079645  0.505246\n",
            "3    0.065287  0.428122  0.096531  0.127160  0.596745  0.226012  0.106946\n",
            "4    0.220306  0.349826  0.467787  0.201743  0.640407  0.483070  0.505237\n",
            "..        ...       ...       ...       ...       ...       ...       ...\n",
            "595  0.828508  0.263762  0.129690  0.825195  0.930940  0.745439  0.005045\n",
            "596  0.489007  0.205950  0.096887  0.403671  0.109924  0.088078  0.053044\n",
            "597  0.753587  0.400899  0.803757  0.047426  0.492782  0.036743  0.896592\n",
            "598  0.238044  0.634393  0.828342  0.283533  0.701292  0.559258  0.539948\n",
            "599  0.011789  0.870920  0.047737  0.799158  0.022608  0.011438  0.433169\n",
            "\n",
            "[600 rows x 7 columns]\n"
          ]
        }
      ]
    },
    {
      "cell_type": "code",
      "source": [
        "# Precios como vector\n",
        "#y_price = np.array(y_price).reshape(-1,1)\n",
        "\n",
        "print(x_total.shape)\n",
        "print(y_price.shape)"
      ],
      "metadata": {
        "colab": {
          "base_uri": "https://localhost:8080/"
        },
        "id": "qk7Dxsjfiabz",
        "outputId": "043eb81c-c577-42e7-d3ee-2649f7354da2"
      },
      "execution_count": 32,
      "outputs": [
        {
          "output_type": "stream",
          "name": "stdout",
          "text": [
            "(600, 7)\n",
            "(600,)\n"
          ]
        }
      ]
    },
    {
      "cell_type": "markdown",
      "source": [
        "b) Split the data set into a training set and a test set. Use random_state=42. test_size =\n",
        "0.2."
      ],
      "metadata": {
        "id": "OK-wxwO2ihj2"
      }
    },
    {
      "cell_type": "code",
      "source": [
        "#Establecer variables de prueba y entrenamiento\n",
        "X_train_t, X_test_t, Y_train_t, Y_test_t = train_test_split(x_total, y_price, test_size = 0.2, random_state=42)\n",
        "\n",
        "print(X_train_t.shape)\n",
        "print(X_test_t.shape)\n",
        "print(Y_train_t.shape)\n",
        "print(Y_test_t.shape)"
      ],
      "metadata": {
        "colab": {
          "base_uri": "https://localhost:8080/"
        },
        "id": "OCD-xdv8ivge",
        "outputId": "ce7ccce5-5bce-455d-a1e9-f93301c2519b"
      },
      "execution_count": 33,
      "outputs": [
        {
          "output_type": "stream",
          "name": "stdout",
          "text": [
            "(480, 7)\n",
            "(120, 7)\n",
            "(480,)\n",
            "(120,)\n"
          ]
        }
      ]
    },
    {
      "cell_type": "markdown",
      "source": [
        "  B) Fit a linear model on the training set, and report the error (RMSE) obtained.\n"
      ],
      "metadata": {
        "id": "F04m0nq_jPcr"
      }
    },
    {
      "cell_type": "code",
      "source": [
        "from sklearn.preprocessing import StandardScaler\n",
        "scaler = StandardScaler()\n",
        "x_normal=scaler.fit_transform(X_train_t)\n",
        "x_normal_test=scaler.fit_transform(X_test_t)"
      ],
      "metadata": {
        "id": "vbyOYEM6i3xn"
      },
      "execution_count": 34,
      "outputs": []
    },
    {
      "cell_type": "code",
      "source": [
        "#Regresión lineal datos train\n",
        "reg_t = LinearRegression()\n",
        "reg_t.fit(x_normal, Y_train_t)\n",
        "\n",
        "#obtención de las métricas de desempeño\n",
        "y_train_predict_t = reg_t.predict(x_normal)\n",
        "mse_t_train = mean_squared_error(Y_train_t, y_train_predict_t)\n",
        "rmse_t_train = (np.sqrt(mean_squared_error(Y_train_t, y_train_predict_t)))\n",
        "r2_t_train = round(r2_score(Y_train_t, y_train_predict_t),2)\n",
        "\n",
        "print(\"The model performance for training set\")\n",
        "print(\"--------------------------------------\")\n",
        "print('MSE_t_train is {}'.format(mse_t_train))\n",
        "print('RMSE_t_train is {}'.format(rmse_t_train))\n",
        "print('R2_t_train score is {}'.format(r2_t_train))\n",
        "print(\"\\n\")"
      ],
      "metadata": {
        "colab": {
          "base_uri": "https://localhost:8080/"
        },
        "id": "jpF4ZvAnjDDw",
        "outputId": "0920f937-512d-4bc1-96c3-1df45b7c639e"
      },
      "execution_count": 48,
      "outputs": [
        {
          "output_type": "stream",
          "name": "stdout",
          "text": [
            "The model performance for training set\n",
            "--------------------------------------\n",
            "MSE_t_train is 3.864366935748006e+31\n",
            "RMSE_t_train is 6216403249265612.0\n",
            "R2_t_train score is 0.58\n",
            "\n",
            "\n"
          ]
        }
      ]
    },
    {
      "cell_type": "code",
      "source": [
        "rmse_t_train = (np.sqrt(mean_squared_error(Y_train_t, y_train_predict_t)))\n"
      ],
      "metadata": {
        "id": "5ttW5yFOlldv"
      },
      "execution_count": 36,
      "outputs": []
    },
    {
      "cell_type": "code",
      "source": [
        "print('RMSE_t_train is {}'.format(rmse_t_train))"
      ],
      "metadata": {
        "colab": {
          "base_uri": "https://localhost:8080/"
        },
        "id": "liHMVk6IltE-",
        "outputId": "d0510bce-5251-43ef-f43a-686c4885b411"
      },
      "execution_count": 37,
      "outputs": [
        {
          "output_type": "stream",
          "name": "stdout",
          "text": [
            "RMSE_t_train is 6216403249265612.0\n"
          ]
        }
      ]
    },
    {
      "cell_type": "markdown",
      "source": [
        "d) Predict with the linear model on the test set, and report the error (RMSE) obtained"
      ],
      "metadata": {
        "id": "MSS9ruFQjSTS"
      }
    },
    {
      "cell_type": "code",
      "source": [
        "#Regresión lineal datos test\n",
        "y_test_predict_t=reg_t.predict(x_normal_test)\n",
        "\n",
        "#obtención de las métricas de desempeño\n",
        "mse_t_test = mean_squared_error(Y_test_t, y_test_predict_t)\n",
        "rmse_t_test = (np.sqrt(mean_squared_error(Y_test_t, y_test_predict_t)))\n",
        "r2_t_test = round(r2_score(Y_test_t, y_test_predict_t),2)\n",
        "\n",
        "print(\"The model performance for training set\")\n",
        "print(\"--------------------------------------\")\n",
        "print('MSE_test_t is {}'.format(mse_t_test))\n",
        "print('RMSE_test_t is {}'.format(rmse_t_test))\n",
        "print('R2_test_t score is {}'.format(r2_t_test))\n",
        "print(\"\\n\")"
      ],
      "metadata": {
        "colab": {
          "base_uri": "https://localhost:8080/"
        },
        "id": "I8e9-m0bjJEi",
        "outputId": "14ce664c-49a3-4899-e718-176afbd8cf9b"
      },
      "execution_count": 38,
      "outputs": [
        {
          "output_type": "stream",
          "name": "stdout",
          "text": [
            "The model performance for training set\n",
            "--------------------------------------\n",
            "MSE_test_t is 4.44521889984869e+31\n",
            "RMSE_test_t is 6667247482918787.0\n",
            "R2_test_t score is 0.38\n",
            "\n",
            "\n"
          ]
        }
      ]
    },
    {
      "cell_type": "markdown",
      "source": [
        "E) Fit a lasso regression model on the training set, with 𝜆 chosen by cross-validation.\n",
        "Report the test (RMSE) obtained.\n"
      ],
      "metadata": {
        "id": "GTZ8M1qVjs2b"
      }
    },
    {
      "cell_type": "code",
      "source": [
        "lasso_train = LassoCV(cv=10, random_state=123, n_alphas=100)\n",
        "lasso_train.fit(x_normal, Y_train_t)\n",
        "\n",
        "y_train_predict_lasso_t = lasso_train.predict(x_normal)\n",
        "\n",
        "mse_lasso_train = mean_squared_error(Y_train_t, y_train_predict_lasso_t)\n",
        "rmse_lasso_train = (np.sqrt(mean_squared_error(Y_train_t, y_train_predict_lasso_t)))\n",
        "r2_lasso_train = round(r2_score(Y_train_t, y_train_predict_lasso_t),2)\n",
        "\n",
        "print(\"The model performance for training set\")\n",
        "print(\"--------------------------------------\")\n",
        "print('MSE_lasso_train is {}'.format(mse_lasso_train))\n",
        "print('RMSE_lasso_train is {}'.format(rmse_lasso_train))\n",
        "print('R2_lasso_train score is {}'.format(r2_lasso_train))\n",
        "\n",
        "print(\"\\n\")"
      ],
      "metadata": {
        "colab": {
          "base_uri": "https://localhost:8080/"
        },
        "id": "sHAFRY6ijyUr",
        "outputId": "d1431bbb-87a9-4e02-8762-f866577af0a7"
      },
      "execution_count": 39,
      "outputs": [
        {
          "output_type": "stream",
          "name": "stdout",
          "text": [
            "The model performance for training set\n",
            "--------------------------------------\n",
            "MSE_lasso_train is 3.876707909566885e+31\n",
            "RMSE_lasso_train is 6226321473845440.0\n",
            "R2_lasso_train score is 0.58\n",
            "\n",
            "\n"
          ]
        }
      ]
    },
    {
      "cell_type": "code",
      "source": [
        "selected_alpha = lasso_train.alpha_\n",
        "\n",
        "print(f'El valor de alpha seleccionado es: {selected_alpha}')"
      ],
      "metadata": {
        "colab": {
          "base_uri": "https://localhost:8080/"
        },
        "id": "zXnVAXm1kYL-",
        "outputId": "4480403b-7340-4e4b-b9ea-cea0faac2a5a"
      },
      "execution_count": 40,
      "outputs": [
        {
          "output_type": "stream",
          "name": "stdout",
          "text": [
            "El valor de alpha seleccionado es: 195210964047004.3\n"
          ]
        }
      ]
    },
    {
      "cell_type": "markdown",
      "source": [
        "F) Predict with the lasso regression on the test set, and report the error (RMSE)\n",
        "obtained."
      ],
      "metadata": {
        "id": "pWv8AOnDkPiO"
      }
    },
    {
      "cell_type": "code",
      "source": [
        "y_test_predict_lasso_t = lasso_train.predict(x_normal_test)\n",
        "\n",
        "mse_lasso_test = mean_squared_error(Y_test_t, y_test_predict_lasso_t)\n",
        "rmse_lasso_test = (np.sqrt(mean_squared_error(Y_test_t, y_test_predict_lasso_t)))\n",
        "r2_lasso_test = round(r2_score(Y_test_t, y_test_predict_lasso_t),2)\n",
        "\n",
        "print(\"The model performance for test set\")\n",
        "print(\"--------------------------------------\")\n",
        "print('MSE_lasso_test is {}'.format(mse_lasso_test))\n",
        "print('RMSE_lasso_test is {}'.format(rmse_lasso_test))\n",
        "print('R2_lasso_test score is {}'.format(r2_lasso_test))\n",
        "\n",
        "print(\"\\n\")"
      ],
      "metadata": {
        "colab": {
          "base_uri": "https://localhost:8080/"
        },
        "id": "_ziMf-45kRrH",
        "outputId": "7a7a0cd7-7561-44cd-c262-d5cc8abe31f3"
      },
      "execution_count": 41,
      "outputs": [
        {
          "output_type": "stream",
          "name": "stdout",
          "text": [
            "The model performance for test set\n",
            "--------------------------------------\n",
            "MSE_lasso_test is 4.303279354736873e+31\n",
            "RMSE_lasso_test is 6559938532285857.0\n",
            "R2_lasso_test score is 0.4\n",
            "\n",
            "\n"
          ]
        }
      ]
    },
    {
      "cell_type": "markdown",
      "source": [
        "g)Fit a ridge model on the training set, with 𝜆 chosen by crossvalidation. Report the\n",
        "error (RMSE) obtained"
      ],
      "metadata": {
        "id": "60tztkQAmOly"
      }
    },
    {
      "cell_type": "code",
      "source": [
        "Ridge_train = RidgeCV(cv=11)\n",
        "Ridge_train.fit(x_normal, Y_train_t)\n",
        "\n",
        "y_train_predict_Ridge_t = Ridge_train.predict(x_normal)\n",
        "\n",
        "mse_Ridge_train = mean_squared_error(Y_train_t, y_train_predict_Ridge_t)\n",
        "rmse_Ridge_train = (np.sqrt(mean_squared_error(Y_train_t, y_train_predict_Ridge_t)))\n",
        "r2_Ridge_train = round(r2_score(Y_train_t, y_train_predict_Ridge_t),2)\n",
        "\n",
        "print(\"The model performance for training set\")\n",
        "print(\"--------------------------------------\")\n",
        "print('MSE_lasso_train is {}'.format(mse_Ridge_train))\n",
        "print('RMSE_lasso_train is {}'.format(rmse_Ridge_train))\n",
        "print('R2_lasso_train score is {}'.format(r2_Ridge_train))\n",
        "\n",
        "print(\"\\n\")"
      ],
      "metadata": {
        "colab": {
          "base_uri": "https://localhost:8080/"
        },
        "id": "RrIStUxlmXXa",
        "outputId": "2bd1e91d-72e2-4185-aa09-acb12a19305a"
      },
      "execution_count": 42,
      "outputs": [
        {
          "output_type": "stream",
          "name": "stdout",
          "text": [
            "The model performance for training set\n",
            "--------------------------------------\n",
            "MSE_lasso_train is 3.8665536950734033e+31\n",
            "RMSE_lasso_train is 6218161862699783.0\n",
            "R2_lasso_train score is 0.58\n",
            "\n",
            "\n"
          ]
        }
      ]
    },
    {
      "cell_type": "markdown",
      "source": [
        " h)Predict with the ridge regression on the test set, and report the error (RMSE)\n",
        "obtained."
      ],
      "metadata": {
        "id": "BaKAB3tBmplU"
      }
    },
    {
      "cell_type": "code",
      "source": [
        "y_test_predict_Ridge_t = Ridge_train.predict(x_normal_test)\n",
        "\n",
        "mse_Ridge_test = mean_squared_error(Y_test_t, y_test_predict_Ridge_t)\n",
        "rmse_Ridge_test = (np.sqrt(mean_squared_error(Y_test_t, y_test_predict_Ridge_t)))\n",
        "r2_Ridge_test = round(r2_score(Y_test_t, y_test_predict_Ridge_t),2)\n",
        "\n",
        "print(\"The model performance for test set\")\n",
        "print(\"--------------------------------------\")\n",
        "print('MSE_lasso_test is {}'.format(mse_Ridge_test))\n",
        "print('RMSE_lasso_test is {}'.format(rmse_Ridge_test))\n",
        "print('R2_lasso_test score is {}'.format(r2_Ridge_test))\n",
        "\n",
        "print(\"\\n\")"
      ],
      "metadata": {
        "colab": {
          "base_uri": "https://localhost:8080/"
        },
        "id": "nqoFwTEpmdRs",
        "outputId": "ec76a821-3f0c-4d1a-c32f-cd01e48aa34f"
      },
      "execution_count": 46,
      "outputs": [
        {
          "output_type": "stream",
          "name": "stdout",
          "text": [
            "The model performance for test set\n",
            "--------------------------------------\n",
            "MSE_lasso_test is 4.389404838052641e+31\n",
            "RMSE_lasso_test is 6625258363303760.0\n",
            "R2_lasso_test score is 0.39\n",
            "\n",
            "\n"
          ]
        }
      ]
    },
    {
      "cell_type": "markdown",
      "source": [
        "i)Report the optimal 𝜆 for lasso regression and Ridge regression."
      ],
      "metadata": {
        "id": "PP7b7cu6m4LM"
      }
    },
    {
      "cell_type": "code",
      "source": [
        "selected_alpha = Ridge_train.alpha_\n",
        "\n",
        "print(f'El valor de alpha seleccionado es: {selected_alpha}')"
      ],
      "metadata": {
        "colab": {
          "base_uri": "https://localhost:8080/"
        },
        "id": "ZyHhMelJnM5h",
        "outputId": "c5c39701-cb85-48c6-af5a-11357b363099"
      },
      "execution_count": 47,
      "outputs": [
        {
          "output_type": "stream",
          "name": "stdout",
          "text": [
            "El valor de alpha seleccionado es: 10.0\n"
          ]
        }
      ]
    }
  ]
}